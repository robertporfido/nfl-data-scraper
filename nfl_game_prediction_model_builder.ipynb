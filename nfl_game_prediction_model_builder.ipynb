{
 "cells": [
  {
   "cell_type": "code",
   "execution_count": 1,
   "id": "019dba3b",
   "metadata": {},
   "outputs": [],
   "source": [
    "import pandas as pd\n",
    "import numpy as np\n",
    "import json\n",
    "import psycopg2\n",
    "from datetime import datetime\n",
    "from sklearn.preprocessing import MinMaxScaler\n",
    "from sklearn.model_selection import train_test_split"
   ]
  },
  {
   "cell_type": "code",
   "execution_count": 2,
   "id": "4c21ed83",
   "metadata": {},
   "outputs": [],
   "source": [
    "pd.set_option('display.max_rows', None)\n",
    "pd.set_option('display.max_columns', None)"
   ]
  },
  {
   "cell_type": "code",
   "execution_count": 3,
   "id": "1a533aee",
   "metadata": {},
   "outputs": [],
   "source": [
    "# Retrieve postgres database credentials from json file\n",
    "with open('nfl_project_postgres_info.json', 'r') as file:\n",
    "    # Read the file contents\n",
    "    postgres_json_data = file.read()\n",
    "\n",
    "    # Parse the JSON data\n",
    "    postgres_info = json.loads(postgres_json_data)"
   ]
  },
  {
   "cell_type": "code",
   "execution_count": 4,
   "id": "aa1b24ec",
   "metadata": {},
   "outputs": [],
   "source": [
    "# Connect to the PostgreSQL database\n",
    "conn = psycopg2.connect(\n",
    "    \n",
    "        host=\"localhost\",\n",
    "        database=postgres_info['database_name'],\n",
    "        user=postgres_info['nfl_project_username'],\n",
    "        password=postgres_info['nfl_project_password']\n",
    ")\n",
    "\n",
    "# Create a cursor\n",
    "cursor = conn.cursor()\n",
    "\n",
    "# Prepare the SQL statement to delete records\n",
    "sql = \"SELECT * FROM dbo.nfl_game_data\"\n",
    "\n",
    "# Execute the delete statement\n",
    "cursor.execute(sql)\n",
    "\n",
    "# Fetch the results\n",
    "results = cursor.fetchall()\n",
    "\n",
    "# Get the column names from the cursor description\n",
    "columns = [desc[0] for desc in cursor.description]\n",
    "\n",
    "# Create a DataFrame from the results and column names\n",
    "game_table = pd.DataFrame(results, columns=columns)\n",
    "\n",
    "# Close the cursor and connection\n",
    "cursor.close()\n",
    "conn.close()"
   ]
  },
  {
   "cell_type": "code",
   "execution_count": 5,
   "id": "cab3ca04",
   "metadata": {},
   "outputs": [],
   "source": [
    "# Sort the DataFrame by game date and game location\n",
    "game_table = game_table.sort_values(['game_date', 'game_time'])"
   ]
  },
  {
   "cell_type": "code",
   "execution_count": 6,
   "id": "0a776805",
   "metadata": {},
   "outputs": [],
   "source": [
    "# Create a game_table copy to modify\n",
    "game_table_working_copy = game_table.copy()"
   ]
  },
  {
   "cell_type": "code",
   "execution_count": 7,
   "id": "3b1baef6",
   "metadata": {},
   "outputs": [],
   "source": [
    "# Drop records with null values in specific columns\n",
    "columns_to_check = ['game_location', 'game_stadium', 'away_rush_tds']\n",
    "game_table_working_copy = game_table_working_copy.dropna(subset=columns_to_check)"
   ]
  },
  {
   "cell_type": "code",
   "execution_count": 8,
   "id": "924cccaa",
   "metadata": {},
   "outputs": [],
   "source": [
    "# Calculate rolling averages for each statistical category per team, including away and home games\n",
    "away_categories = ['away_team_total_win_percent', 'away_team_away_win_percent',\n",
    "                   'away_team_final', 'away_pass_yards', 'away_pass_attempts',\n",
    "                   'away_pass_tds', 'away_pass_ints', 'away_sacks_allowed',\n",
    "                   'away_sack_yardage_allowed', 'away_pass_rating', 'away_rush_attempts',\n",
    "                   'away_rush_yards', 'away_rush_yards_per_attempt', 'away_rush_tds',\n",
    "                   'away_receptions', 'away_rec_yards', 'away_yards_per_reception', 'away_rec_tds'\n",
    "                  ]\n",
    "\n",
    "for category in away_categories:\n",
    "    # Calculate rolling averages for each team using a window of 5 games\n",
    "    game_table_working_copy[f'avg_{category}_last_5'] = game_table_working_copy.groupby('away_team')[category].rolling(window=5, min_periods=1).mean().reset_index(level=0, drop=True)"
   ]
  },
  {
   "cell_type": "code",
   "execution_count": 9,
   "id": "32b26e97",
   "metadata": {},
   "outputs": [],
   "source": [
    "# Calculate rolling averages for each statistical category per team, including away and home games\n",
    "home_categories = ['home_team_total_win_percent', 'home_team_home_win_percent',\n",
    "                   'home_team_final', 'home_pass_yards', 'home_pass_attempts',\n",
    "                   'home_pass_tds', 'home_pass_ints', 'home_sacks_allowed',\n",
    "                   'home_sack_yardage_allowed', 'home_pass_rating', 'home_rush_attempts',\n",
    "                   'home_rush_yards', 'home_rush_yards_per_attempt', 'home_rush_tds',\n",
    "                   'home_receptions', 'home_rec_yards', 'home_yards_per_reception', 'home_rec_tds'\n",
    "                  ]\n",
    "    \n",
    "for category in home_categories:\n",
    "    # Calculate rolling averages for each team using a window of 5 games\n",
    "    game_table_working_copy[f'avg_{category}_last_5'] = game_table_working_copy.groupby('home_team')[category].rolling(window=5, min_periods=1).mean().reset_index(level=0, drop=True)    "
   ]
  },
  {
   "cell_type": "code",
   "execution_count": 10,
   "id": "d2d66d17",
   "metadata": {},
   "outputs": [],
   "source": [
    "# Reduce column set.\n",
    "selected_columns = ['away_team', 'home_team', \n",
    " 'avg_away_team_total_win_percent_last_5',\n",
    " 'avg_away_team_away_win_percent_last_5',\n",
    " 'avg_away_team_final_last_5',\n",
    " 'avg_away_pass_yards_last_5',\n",
    " 'avg_away_pass_attempts_last_5',\n",
    " 'avg_away_pass_tds_last_5',\n",
    " 'avg_away_pass_ints_last_5',\n",
    " 'avg_away_sacks_allowed_last_5',\n",
    " 'avg_away_sack_yardage_allowed_last_5',\n",
    " 'avg_away_pass_rating_last_5',\n",
    " 'avg_away_rush_attempts_last_5',\n",
    " 'avg_away_rush_yards_last_5',\n",
    " 'avg_away_rush_yards_per_attempt_last_5',\n",
    " 'avg_away_rush_tds_last_5',\n",
    " 'avg_away_receptions_last_5',\n",
    " 'avg_away_rec_yards_last_5',\n",
    " 'avg_away_yards_per_reception_last_5',\n",
    " 'avg_away_rec_tds_last_5',\n",
    " 'avg_home_team_total_win_percent_last_5',\n",
    " 'avg_home_team_home_win_percent_last_5',\n",
    " 'avg_home_team_final_last_5',\n",
    " 'avg_home_pass_yards_last_5',\n",
    " 'avg_home_pass_attempts_last_5',\n",
    " 'avg_home_pass_tds_last_5',\n",
    " 'avg_home_pass_ints_last_5',\n",
    " 'avg_home_sacks_allowed_last_5',\n",
    " 'avg_home_sack_yardage_allowed_last_5',\n",
    " 'avg_home_pass_rating_last_5',\n",
    " 'avg_home_rush_attempts_last_5',\n",
    " 'avg_home_rush_yards_last_5',\n",
    " 'avg_home_rush_yards_per_attempt_last_5',\n",
    " 'avg_home_rush_tds_last_5',\n",
    " 'avg_home_receptions_last_5',\n",
    " 'avg_home_rec_yards_last_5',\n",
    " 'avg_home_yards_per_reception_last_5',\n",
    " 'avg_home_rec_tds_last_5']"
   ]
  },
  {
   "cell_type": "code",
   "execution_count": 11,
   "id": "a36db910",
   "metadata": {},
   "outputs": [],
   "source": [
    "# Separate the features (X) and the target variable (y)\n",
    "X = game_table_working_copy[selected_columns]\n",
    "y = game_table_working_copy['game_result']"
   ]
  },
  {
   "cell_type": "code",
   "execution_count": 12,
   "id": "156705e6",
   "metadata": {},
   "outputs": [],
   "source": [
    "from sklearn.preprocessing import LabelEncoder\n",
    "# Initialize a LabelEncoder\n",
    "label_encoder = LabelEncoder()\n",
    "team_names = ['away_team', 'home_team']\n",
    "\n",
    "# Encode categorical columns using label encoding\n",
    "X_encoded = X.copy()\n",
    "for col in team_names:\n",
    "    X_encoded[col] = label_encoder.fit_transform(X[col])"
   ]
  },
  {
   "cell_type": "code",
   "execution_count": 13,
   "id": "67f8521c",
   "metadata": {},
   "outputs": [],
   "source": [
    "# Choose 'feature_columns' to normalize\n",
    "feature_columns = list(X_encoded.columns)[4:]\n",
    "\n",
    "# Perform min-max normalization on the selected feature columns\n",
    "scaler = MinMaxScaler()\n",
    "X_encoded[feature_columns] = scaler.fit_transform(X_encoded[feature_columns])"
   ]
  },
  {
   "cell_type": "code",
   "execution_count": 14,
   "id": "3535271a",
   "metadata": {},
   "outputs": [],
   "source": [
    "# Identify the indices of rows to drop where the value in 'y' equals 2\n",
    "indices_to_drop = y[y == 2].index"
   ]
  },
  {
   "cell_type": "code",
   "execution_count": 15,
   "id": "2cc3af78",
   "metadata": {},
   "outputs": [],
   "source": [
    "# Drop the corresponding rows from 'y' and 'X'\n",
    "y_filtered = y.drop(indices_to_drop)\n",
    "X_encoded_filtered = X_encoded.drop(indices_to_drop)"
   ]
  },
  {
   "cell_type": "code",
   "execution_count": 16,
   "id": "d2a45c73",
   "metadata": {},
   "outputs": [],
   "source": [
    "# Split the data into training and testing sets\n",
    "X_train, X_test, y_train, y_test = train_test_split(X_encoded_filtered, y_filtered, test_size=0.2, random_state=42)"
   ]
  },
  {
   "cell_type": "code",
   "execution_count": 17,
   "id": "0e8d9a04",
   "metadata": {},
   "outputs": [],
   "source": [
    "from sklearn.linear_model import LogisticRegression\n",
    "\n",
    "# Create an instance of the Logistic Regression model\n",
    "model = LogisticRegression(solver='lbfgs', max_iter=10000, tol=0.001)"
   ]
  },
  {
   "cell_type": "code",
   "execution_count": 18,
   "id": "fe8235e9",
   "metadata": {},
   "outputs": [
    {
     "data": {
      "text/html": [
       "<style>#sk-container-id-1 {color: black;background-color: white;}#sk-container-id-1 pre{padding: 0;}#sk-container-id-1 div.sk-toggleable {background-color: white;}#sk-container-id-1 label.sk-toggleable__label {cursor: pointer;display: block;width: 100%;margin-bottom: 0;padding: 0.3em;box-sizing: border-box;text-align: center;}#sk-container-id-1 label.sk-toggleable__label-arrow:before {content: \"▸\";float: left;margin-right: 0.25em;color: #696969;}#sk-container-id-1 label.sk-toggleable__label-arrow:hover:before {color: black;}#sk-container-id-1 div.sk-estimator:hover label.sk-toggleable__label-arrow:before {color: black;}#sk-container-id-1 div.sk-toggleable__content {max-height: 0;max-width: 0;overflow: hidden;text-align: left;background-color: #f0f8ff;}#sk-container-id-1 div.sk-toggleable__content pre {margin: 0.2em;color: black;border-radius: 0.25em;background-color: #f0f8ff;}#sk-container-id-1 input.sk-toggleable__control:checked~div.sk-toggleable__content {max-height: 200px;max-width: 100%;overflow: auto;}#sk-container-id-1 input.sk-toggleable__control:checked~label.sk-toggleable__label-arrow:before {content: \"▾\";}#sk-container-id-1 div.sk-estimator input.sk-toggleable__control:checked~label.sk-toggleable__label {background-color: #d4ebff;}#sk-container-id-1 div.sk-label input.sk-toggleable__control:checked~label.sk-toggleable__label {background-color: #d4ebff;}#sk-container-id-1 input.sk-hidden--visually {border: 0;clip: rect(1px 1px 1px 1px);clip: rect(1px, 1px, 1px, 1px);height: 1px;margin: -1px;overflow: hidden;padding: 0;position: absolute;width: 1px;}#sk-container-id-1 div.sk-estimator {font-family: monospace;background-color: #f0f8ff;border: 1px dotted black;border-radius: 0.25em;box-sizing: border-box;margin-bottom: 0.5em;}#sk-container-id-1 div.sk-estimator:hover {background-color: #d4ebff;}#sk-container-id-1 div.sk-parallel-item::after {content: \"\";width: 100%;border-bottom: 1px solid gray;flex-grow: 1;}#sk-container-id-1 div.sk-label:hover label.sk-toggleable__label {background-color: #d4ebff;}#sk-container-id-1 div.sk-serial::before {content: \"\";position: absolute;border-left: 1px solid gray;box-sizing: border-box;top: 0;bottom: 0;left: 50%;z-index: 0;}#sk-container-id-1 div.sk-serial {display: flex;flex-direction: column;align-items: center;background-color: white;padding-right: 0.2em;padding-left: 0.2em;position: relative;}#sk-container-id-1 div.sk-item {position: relative;z-index: 1;}#sk-container-id-1 div.sk-parallel {display: flex;align-items: stretch;justify-content: center;background-color: white;position: relative;}#sk-container-id-1 div.sk-item::before, #sk-container-id-1 div.sk-parallel-item::before {content: \"\";position: absolute;border-left: 1px solid gray;box-sizing: border-box;top: 0;bottom: 0;left: 50%;z-index: -1;}#sk-container-id-1 div.sk-parallel-item {display: flex;flex-direction: column;z-index: 1;position: relative;background-color: white;}#sk-container-id-1 div.sk-parallel-item:first-child::after {align-self: flex-end;width: 50%;}#sk-container-id-1 div.sk-parallel-item:last-child::after {align-self: flex-start;width: 50%;}#sk-container-id-1 div.sk-parallel-item:only-child::after {width: 0;}#sk-container-id-1 div.sk-dashed-wrapped {border: 1px dashed gray;margin: 0 0.4em 0.5em 0.4em;box-sizing: border-box;padding-bottom: 0.4em;background-color: white;}#sk-container-id-1 div.sk-label label {font-family: monospace;font-weight: bold;display: inline-block;line-height: 1.2em;}#sk-container-id-1 div.sk-label-container {text-align: center;}#sk-container-id-1 div.sk-container {/* jupyter's `normalize.less` sets `[hidden] { display: none; }` but bootstrap.min.css set `[hidden] { display: none !important; }` so we also need the `!important` here to be able to override the default hidden behavior on the sphinx rendered scikit-learn.org. See: https://github.com/scikit-learn/scikit-learn/issues/21755 */display: inline-block !important;position: relative;}#sk-container-id-1 div.sk-text-repr-fallback {display: none;}</style><div id=\"sk-container-id-1\" class=\"sk-top-container\"><div class=\"sk-text-repr-fallback\"><pre>LogisticRegression(max_iter=10000, tol=0.001)</pre><b>In a Jupyter environment, please rerun this cell to show the HTML representation or trust the notebook. <br />On GitHub, the HTML representation is unable to render, please try loading this page with nbviewer.org.</b></div><div class=\"sk-container\" hidden><div class=\"sk-item\"><div class=\"sk-estimator sk-toggleable\"><input class=\"sk-toggleable__control sk-hidden--visually\" id=\"sk-estimator-id-1\" type=\"checkbox\" checked><label for=\"sk-estimator-id-1\" class=\"sk-toggleable__label sk-toggleable__label-arrow\">LogisticRegression</label><div class=\"sk-toggleable__content\"><pre>LogisticRegression(max_iter=10000, tol=0.001)</pre></div></div></div></div></div>"
      ],
      "text/plain": [
       "LogisticRegression(max_iter=10000, tol=0.001)"
      ]
     },
     "execution_count": 18,
     "metadata": {},
     "output_type": "execute_result"
    }
   ],
   "source": [
    "# Train the model\n",
    "model.fit(X_train, y_train)"
   ]
  },
  {
   "cell_type": "code",
   "execution_count": 19,
   "id": "430b6d90",
   "metadata": {},
   "outputs": [],
   "source": [
    "# Make predictions on the testing set\n",
    "y_pred = model.predict(X_test)"
   ]
  },
  {
   "cell_type": "code",
   "execution_count": 20,
   "id": "c2640034",
   "metadata": {},
   "outputs": [],
   "source": [
    "# Get the predicted outcomes for each game\n",
    "y_pred_game = model.predict(X_encoded)\n",
    "# Get the predicted probabilities for each game\n",
    "y_pred_game_proba = model.predict_proba(X_encoded)"
   ]
  },
  {
   "cell_type": "code",
   "execution_count": 21,
   "id": "e1e2dfb0",
   "metadata": {},
   "outputs": [],
   "source": [
    "# Extract the predicted probabilities for the positive class (home team win)\n",
    "away_win_probabilities = y_pred_game_proba[:, 1]\n",
    "home_win_probabilities = y_pred_game_proba[:, 0]"
   ]
  },
  {
   "cell_type": "code",
   "execution_count": 22,
   "id": "d9819558",
   "metadata": {},
   "outputs": [],
   "source": [
    "# Drop engineered data for ML model that is now no longer needed.\n",
    "game_table_working_copy = game_table_working_copy.filter(items=list(game_table_working_copy.columns[0:87]))"
   ]
  },
  {
   "cell_type": "code",
   "execution_count": 23,
   "id": "433aa222",
   "metadata": {},
   "outputs": [],
   "source": [
    "# Add on the array of predicted outcomes called 'y_pred_game'\n",
    "game_table_working_copy['predicted_outcome'] = y_pred_game\n",
    "game_table_working_copy['away_team_win_probability'] = away_win_probabilities\n",
    "game_table_working_copy['home_team_win_probability'] = home_win_probabilities"
   ]
  },
  {
   "cell_type": "code",
   "execution_count": 24,
   "id": "f3fc793e",
   "metadata": {},
   "outputs": [
    {
     "data": {
      "text/plain": [
       "['logistic_regression_model.joblib']"
      ]
     },
     "execution_count": 24,
     "metadata": {},
     "output_type": "execute_result"
    }
   ],
   "source": [
    "from joblib import dump\n",
    "\n",
    "# Assuming you have a trained logistic regression model called 'model'\n",
    "dump(model, 'logistic_regression_model.joblib')"
   ]
  }
 ],
 "metadata": {
  "kernelspec": {
   "display_name": "Python 3 (ipykernel)",
   "language": "python",
   "name": "python3"
  },
  "language_info": {
   "codemirror_mode": {
    "name": "ipython",
    "version": 3
   },
   "file_extension": ".py",
   "mimetype": "text/x-python",
   "name": "python",
   "nbconvert_exporter": "python",
   "pygments_lexer": "ipython3",
   "version": "3.10.9"
  }
 },
 "nbformat": 4,
 "nbformat_minor": 5
}
