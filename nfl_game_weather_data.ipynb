{
 "cells": [
  {
   "cell_type": "code",
   "execution_count": 1,
   "id": "c631f6f3",
   "metadata": {},
   "outputs": [],
   "source": [
    "import pandas as pd\n",
    "import numpy as np\n",
    "import datetime\n",
    "import psycopg2\n",
    "from psycopg2.extras import Json\n",
    "import json\n",
    "import requests\n",
    "from datetime import date"
   ]
  },
  {
   "cell_type": "code",
   "execution_count": 2,
   "id": "808b6f83",
   "metadata": {},
   "outputs": [],
   "source": [
    "pd.set_option('display.max_rows', None)\n",
    "pd.set_option('display.max_columns', None)"
   ]
  },
  {
   "cell_type": "code",
   "execution_count": 3,
   "id": "5e4ff360",
   "metadata": {},
   "outputs": [],
   "source": [
    "# Automate the execution of this to run every day until Feb 20th, 2024 when the season has finished\n",
    "# After 2023 season has ended change the year_list variable below to be 2024\n",
    "\n",
    "year = 2023"
   ]
  },
  {
   "cell_type": "code",
   "execution_count": 4,
   "id": "548704ea",
   "metadata": {},
   "outputs": [],
   "source": [
    "# Retrieve postgres database credentials from json file\n",
    "with open('nfl_project_postgres_info.json', 'r') as file:\n",
    "    # Read the file contents\n",
    "    postgres_json_data = file.read()\n",
    "\n",
    "    # Parse the JSON data\n",
    "    postgres_info = json.loads(postgres_json_data)"
   ]
  },
  {
   "cell_type": "code",
   "execution_count": 5,
   "id": "629288e2",
   "metadata": {},
   "outputs": [],
   "source": [
    "# Retrieve postgres database credentials from json file\n",
    "with open('rapid_api_weather.json', 'r') as file:\n",
    "    # Read the file contents\n",
    "    weather_api_json_data = file.read()\n",
    "\n",
    "    # Parse the JSON data\n",
    "    weather_api_info = json.loads(weather_api_json_data)"
   ]
  },
  {
   "cell_type": "code",
   "execution_count": 6,
   "id": "a9e1558e",
   "metadata": {},
   "outputs": [],
   "source": [
    "# Connect to the PostgreSQL database\n",
    "conn = psycopg2.connect(\n",
    "    \n",
    "        host=\"localhost\",\n",
    "        database=postgres_info['database_name'],\n",
    "        user=postgres_info['nfl_project_username'],\n",
    "        password=postgres_info['nfl_project_password']\n",
    ")\n",
    "\n",
    "# Create a cursor\n",
    "cursor = conn.cursor()\n",
    "\n",
    "# Prepare the SQL statement to delete records\n",
    "sql = \"SELECT espn_game_id, game_location, game_time, game_date, weather FROM dbo.nfl_game_data WHERE season = %s\"\n",
    "\n",
    "# Execute the delete statement\n",
    "cursor.execute(sql, (year,))\n",
    "\n",
    "# Fetch the results\n",
    "results = cursor.fetchall()\n",
    "\n",
    "# Get the column names from the cursor description\n",
    "columns = [desc[0] for desc in cursor.description]\n",
    "\n",
    "# Create a DataFrame from the results and column names\n",
    "game_table = pd.DataFrame(results, columns=columns)\n",
    "\n",
    "# Close the cursor and connection\n",
    "cursor.close()\n",
    "conn.close()"
   ]
  },
  {
   "cell_type": "code",
   "execution_count": 7,
   "id": "1eb8d24f",
   "metadata": {},
   "outputs": [],
   "source": [
    "# Sort the game_table\n",
    "game_table = game_table.sort_values(by=[\"game_date\", \"game_time\"]).reset_index(drop=True)"
   ]
  },
  {
   "cell_type": "code",
   "execution_count": 8,
   "id": "46cd1add",
   "metadata": {},
   "outputs": [],
   "source": [
    "# Query weather api by looping through the game_table\n",
    "url = \"https://weatherapi-com.p.rapidapi.com/current.json\"\n",
    "headers = {\n",
    "    \"X-RapidAPI-Key\": weather_api_info['api_key'],\n",
    "    \"X-RapidAPI-Host\": \"weatherapi-com.p.rapidapi.com\"\n",
    "}\n",
    "\n",
    "\n",
    "results = {}  # Dictionary to store the results\n",
    "\n",
    "for index, row in game_table.iterrows():\n",
    "    \n",
    "    try:\n",
    "        city = row['game_location']\n",
    "        hour = row['game_time'].hour\n",
    "        \n",
    "    except AttributeError: continue\n",
    "    \n",
    "    querystring = {\n",
    "        \"q\": city,\n",
    "        \"dt\": date.today(),\n",
    "        \"lang\": \"en\",\n",
    "        \"hour\": hour\n",
    "    }\n",
    "    \n",
    "    response = requests.get(url, headers=headers, params=querystring)\n",
    "    data = response.json()\n",
    "    \n",
    "    # Store the weather data in the results dictionary\n",
    "    results[index] = data"
   ]
  },
  {
   "cell_type": "code",
   "execution_count": 9,
   "id": "27997f1f",
   "metadata": {},
   "outputs": [],
   "source": [
    "# Update the DataFrame with the weather information\n",
    "game_table['weather'] = pd.Series(results)"
   ]
  },
  {
   "cell_type": "code",
   "execution_count": 10,
   "id": "90935aca",
   "metadata": {},
   "outputs": [],
   "source": [
    "# Drop records with NaN values in any column\n",
    "game_table = game_table.dropna().reset_index(drop=True)"
   ]
  },
  {
   "cell_type": "code",
   "execution_count": 11,
   "id": "3fe08bbe",
   "metadata": {},
   "outputs": [],
   "source": [
    "# Extract only desired bits of information from weather results\n",
    "game_table['weather'] = game_table['weather'].apply(lambda x: {'temp_f': x['current']['temp_f'],\n",
    "                                                               'wind_mph': x['current']['wind_mph'],\n",
    "                                                               'pressure_in': x['current']['pressure_in'],\n",
    "                                                               'precip_in': x['current']['precip_in'],\n",
    "                                                               'humidity': x['current']['humidity'],\n",
    "                                                               'cloud': x['current']['cloud'],\n",
    "                                                               'vis_miles': x['current']['vis_miles'],\n",
    "                                                               'gust_mph': x['current']['gust_mph']} if isinstance(x, dict) else x)"
   ]
  },
  {
   "cell_type": "code",
   "execution_count": 12,
   "id": "e50f8563",
   "metadata": {},
   "outputs": [],
   "source": [
    "# Convert the \"weather\" column to string representation\n",
    "game_table['weather'] = game_table['weather'].apply(str)"
   ]
  },
  {
   "cell_type": "code",
   "execution_count": 16,
   "id": "0e282a3c",
   "metadata": {},
   "outputs": [],
   "source": [
    "# Connect to the PostgreSQL database\n",
    "conn = psycopg2.connect(\n",
    "    \n",
    "        host=\"localhost\",\n",
    "        database=postgres_info['database_name'],\n",
    "        user=postgres_info['nfl_project_username'],\n",
    "        password=postgres_info['nfl_project_password']\n",
    ")\n",
    "\n",
    "# Create a cursor\n",
    "cursor = conn.cursor()\n",
    "\n",
    "# Iterate over the DataFrame rows\n",
    "for _, row in game_table.iterrows():\n",
    "    espn_game_id = row['espn_game_id']\n",
    "    weather_text = row['weather']\n",
    "    \n",
    "    # Prepare the SQL statement to update the \"weather\" column\n",
    "    sql = \"\"\"\n",
    "    UPDATE dbo.nfl_game_data\n",
    "    SET weather = %s\n",
    "    WHERE espn_game_id = %s\n",
    "    \"\"\"\n",
    "    \n",
    "    # Execute the SQL statement with the weather data and espn_game_id as parameters\n",
    "    cursor.execute(sql, (weather_text, espn_game_id))\n",
    "\n",
    "# Commit the changes\n",
    "conn.commit()\n",
    "\n",
    "# Close the cursor and connection\n",
    "cursor.close()\n",
    "conn.close()"
   ]
  }
 ],
 "metadata": {
  "kernelspec": {
   "display_name": "Python 3 (ipykernel)",
   "language": "python",
   "name": "python3"
  },
  "language_info": {
   "codemirror_mode": {
    "name": "ipython",
    "version": 3
   },
   "file_extension": ".py",
   "mimetype": "text/x-python",
   "name": "python",
   "nbconvert_exporter": "python",
   "pygments_lexer": "ipython3",
   "version": "3.10.9"
  }
 },
 "nbformat": 4,
 "nbformat_minor": 5
}
